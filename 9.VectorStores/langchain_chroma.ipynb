{
 "cells": [
  {
   "cell_type": "code",
   "execution_count": null,
   "id": "d188ea99",
   "metadata": {},
   "outputs": [],
   "source": [
    "from langchain_huggingface import HuggingFacePipeline, HuggingFaceEmbeddings\n",
    "from langchain_chroma import Chroma\n",
    "from langchain_community.document_loaders import DirectoryLoader, PyPDFLoader\n",
    "from langchain.text_splitter import RecursiveCharacterTextSplitter\n",
    "from dotenv import load_dotenv\n",
    "import os"
   ]
  },
  {
   "cell_type": "code",
   "execution_count": 4,
   "id": "f58bc637",
   "metadata": {},
   "outputs": [],
   "source": [
    "os.environ['HF_HOME'] = \"W:/huggingface_cache\""
   ]
  },
  {
   "cell_type": "code",
   "execution_count": null,
   "id": "0a18dafe",
   "metadata": {},
   "outputs": [
    {
     "name": "stdout",
     "output_type": "stream",
     "text": [
      "1024\n"
     ]
    }
   ],
   "source": [
    "embeddingmodel = HuggingFaceEmbeddings(model_name=\"Qwen/Qwen3-Embedding-0.6B\", model_kwargs={\"trust_remote_code\": True}, encode_kwargs={\"normalize_embeddings\":True})\n",
    "result = embeddingmodel.embed_query(\"Hi! This is mohan\")\n",
    "print(result)"
   ]
  },
  {
   "cell_type": "code",
   "execution_count": 7,
   "id": "b05d1a99",
   "metadata": {},
   "outputs": [],
   "source": [
    "from langchain.schema import Document\n",
    "doc1 = Document(page_content=\"Virat Kohli is one of the most successful and consistent batsman in IPL History, known for his aggresive batting style\", metadata={\"team\":\"Royal Challengers Banglore\"})\n",
    "\n",
    "doc2 = Document(page_content=\"Rohit Sharma is one of the most successful captain in IPL History, leading mumbai Indians to five titles. he is known for his captaincy\", metadata={\"team\":\"Mumbai Indians\"})\n",
    "\n",
    "doc3 = Document(page_content=\"Ms Dhoni, Famously known as Captain cool, has led chennai super kings to multiple IPL Titles. His finishing skills, Wicket keeping skills are known\", metadata={\"team\":\"Chennai Super Kings\"})\n",
    "\n",
    "doc4 = Document(page_content=\"Jasprit Bumrah is considered one of the fastest bowler in T20 crciekt. Playing for Mumabi Indinas, he is known for his master of precision and pace,unorthodox action and relentless discipline\", metadata={\"team\":\"Mumbai Indians\"})\n",
    "\n",
    "doc5 = Document(page_content=\"Ravindra Jadeja is a Dynamic all-rounder who contributes with both bat and ball. Representing Chennai Super kings, he is known for  sword-wielding\", metadata={\"team\":\"Chennai Super Kings\"})\n",
    "\n",
    "docs = [doc1, doc2, doc3, doc4, doc5]"
   ]
  },
  {
   "cell_type": "code",
   "execution_count": 10,
   "id": "8feb7f9f",
   "metadata": {},
   "outputs": [
    {
     "data": {
      "text/plain": [
       "['62c3c9eb-789f-4596-8d96-cc7ff2725c42',\n",
       " 'a28dc09f-f645-46a3-8aef-e6eb48a6fc02',\n",
       " '0c111c31-2bc5-4338-82ba-54ce78c4c876',\n",
       " '570253b3-144c-4084-ab41-4fc4cfbe06db',\n",
       " 'e0bebd1a-1b93-4338-9a4f-e10943ad0e80']"
      ]
     },
     "execution_count": 10,
     "metadata": {},
     "output_type": "execute_result"
    }
   ],
   "source": [
    "vector_store = Chroma(embedding_function=embeddingmodel, persist_directory=\"9.VectorStores/vectorDBs\", collection_name=\"sample\")\n",
    "vector_store.add_documents(docs)"
   ]
  },
  {
   "cell_type": "code",
   "execution_count": 12,
   "id": "1e54944b",
   "metadata": {},
   "outputs": [
    {
     "data": {
      "text/plain": [
       "{'ids': ['62c3c9eb-789f-4596-8d96-cc7ff2725c42',\n",
       "  'a28dc09f-f645-46a3-8aef-e6eb48a6fc02',\n",
       "  '0c111c31-2bc5-4338-82ba-54ce78c4c876',\n",
       "  '570253b3-144c-4084-ab41-4fc4cfbe06db',\n",
       "  'e0bebd1a-1b93-4338-9a4f-e10943ad0e80'],\n",
       " 'embeddings': array([[-0.01123478, -0.0328014 , -0.01304645, ..., -0.01747213,\n",
       "          0.03137603, -0.05412785],\n",
       "        [-0.01248463, -0.02590124, -0.01501196, ..., -0.02798415,\n",
       "          0.03158053, -0.05688735],\n",
       "        [ 0.05272389, -0.06671432, -0.01550192, ..., -0.00392435,\n",
       "          0.03517723, -0.06936487],\n",
       "        [-0.04059955, -0.07805686, -0.01309619, ..., -0.00834804,\n",
       "          0.02966242, -0.03385897],\n",
       "        [ 0.03545947, -0.02779589, -0.0111889 , ..., -0.02837375,\n",
       "         -0.01060435, -0.04368109]], shape=(5, 1024)),\n",
       " 'documents': ['Virat Kohli is one of the most successful and consistent batsman in IPL History, known for his aggresive batting style',\n",
       "  'Rohit Sharma is one of the most successful captain in IPL History, leading mumbai Indians to five titles. he is known for his captaincy',\n",
       "  'Ms Dhoni, Famously known as Captain cool, has led chennai super kings to multiple IPL Titles. His finishing skills, Wicket keeping skills are known',\n",
       "  'Jasprit Bumrah is considered one of the fastest bowler in T20 crciekt. Playing for Mumabi Indinas, he is known for his master of precision and pace,unorthodox action and relentless discipline',\n",
       "  'Ravindra Jadeja is a Dynamic all-rounder who contributes with both bat and ball. Representing Chennai Super kings, he is known for  sword-wielding'],\n",
       " 'uris': None,\n",
       " 'included': ['embeddings', 'documents', 'metadatas'],\n",
       " 'data': None,\n",
       " 'metadatas': [{'team': 'Royal Challengers Banglore'},\n",
       "  {'team': 'Mumbai Indians'},\n",
       "  {'team': 'Chennai Super Kings'},\n",
       "  {'team': 'Mumbai Indians'},\n",
       "  {'team': 'Chennai Super Kings'}]}"
      ]
     },
     "execution_count": 12,
     "metadata": {},
     "output_type": "execute_result"
    }
   ],
   "source": [
    "# View Documents\n",
    "\n",
    "vector_store.get(include=['embeddings','documents','metadatas'])"
   ]
  },
  {
   "cell_type": "code",
   "execution_count": 20,
   "id": "6974b792",
   "metadata": {},
   "outputs": [
    {
     "data": {
      "text/plain": [
       "[Document(metadata={'team': 'Chennai Super Kings'}, page_content='Ms Dhoni, Famously known as Captain cool, has led chennai super kings to multiple IPL Titles. His finishing skills, Wicket keeping skills are known'),\n",
       " Document(metadata={'team': 'Mumbai Indians'}, page_content='Rohit Sharma is one of the most successful captain in IPL History, leading mumbai Indians to five titles. he is known for his captaincy')]"
      ]
     },
     "execution_count": 20,
     "metadata": {},
     "output_type": "execute_result"
    }
   ],
   "source": [
    "# Search Documents\n",
    "\n",
    "vector_store.similarity_search(query=\"Who among these are captiains?\", k=2)"
   ]
  },
  {
   "cell_type": "code",
   "execution_count": 21,
   "id": "ccaacfed",
   "metadata": {},
   "outputs": [
    {
     "data": {
      "text/plain": [
       "[(Document(metadata={'team': 'Mumbai Indians'}, page_content='Rohit Sharma is one of the most successful captain in IPL History, leading mumbai Indians to five titles. he is known for his captaincy'),\n",
       "  0.9507157802581787),\n",
       " (Document(metadata={'team': 'Chennai Super Kings'}, page_content='Ms Dhoni, Famously known as Captain cool, has led chennai super kings to multiple IPL Titles. His finishing skills, Wicket keeping skills are known'),\n",
       "  0.9565247297286987)]"
      ]
     },
     "execution_count": 21,
     "metadata": {},
     "output_type": "execute_result"
    }
   ],
   "source": [
    "# Search with Similarity scores\n",
    "\n",
    "vector_store.similarity_search_with_score(query=\"Who among these are captains?\", k=2)"
   ]
  },
  {
   "cell_type": "code",
   "execution_count": 22,
   "id": "75696d6c",
   "metadata": {},
   "outputs": [
    {
     "data": {
      "text/plain": [
       "[(Document(metadata={'team': 'Chennai Super Kings'}, page_content='Ms Dhoni, Famously known as Captain cool, has led chennai super kings to multiple IPL Titles. His finishing skills, Wicket keeping skills are known'),\n",
       "  1.4767405986785889),\n",
       " (Document(metadata={'team': 'Chennai Super Kings'}, page_content='Ravindra Jadeja is a Dynamic all-rounder who contributes with both bat and ball. Representing Chennai Super kings, he is known for  sword-wielding'),\n",
       "  1.5706638097763062)]"
      ]
     },
     "execution_count": 22,
     "metadata": {},
     "output_type": "execute_result"
    }
   ],
   "source": [
    "# meta-data filtering\n",
    "vector_store.similarity_search_with_score(query=\"\", filter={\"team\": \"Chennai Super Kings\"})"
   ]
  },
  {
   "cell_type": "code",
   "execution_count": 24,
   "id": "6c91302b",
   "metadata": {},
   "outputs": [],
   "source": [
    "# Update Documents\n",
    "\n",
    "updated_doc1 = Document(page_content=\"Virat Kohli, The former captain of Royal Challengers Banglore (RCB), is renowed for his aggresive leadership and consistency\", metadata={\"team\":\"Royal Challengers Banglore\"})\n",
    "\n",
    "vector_store.update_document(document_id=\"62c3c9eb-789f-4596-8d96-cc7ff2725c42\", document=updated_doc1)"
   ]
  },
  {
   "cell_type": "code",
   "execution_count": 25,
   "id": "ce10daf5",
   "metadata": {},
   "outputs": [
    {
     "data": {
      "text/plain": [
       "{'ids': ['62c3c9eb-789f-4596-8d96-cc7ff2725c42',\n",
       "  'a28dc09f-f645-46a3-8aef-e6eb48a6fc02',\n",
       "  '0c111c31-2bc5-4338-82ba-54ce78c4c876',\n",
       "  '570253b3-144c-4084-ab41-4fc4cfbe06db',\n",
       "  'e0bebd1a-1b93-4338-9a4f-e10943ad0e80'],\n",
       " 'embeddings': array([[ 0.0066123 , -0.03016725, -0.01561238, ..., -0.02056137,\n",
       "          0.01098124, -0.06857778],\n",
       "        [-0.01248463, -0.02590124, -0.01501196, ..., -0.02798415,\n",
       "          0.03158053, -0.05688735],\n",
       "        [ 0.05272389, -0.06671432, -0.01550192, ..., -0.00392435,\n",
       "          0.03517723, -0.06936487],\n",
       "        [-0.04059955, -0.07805686, -0.01309619, ..., -0.00834804,\n",
       "          0.02966242, -0.03385897],\n",
       "        [ 0.03545947, -0.02779589, -0.0111889 , ..., -0.02837375,\n",
       "         -0.01060435, -0.04368109]], shape=(5, 1024)),\n",
       " 'documents': ['Virat Kohli, The former captain of Royal Challengers Banglore (RCB), is renowed for his aggresive leadership and consistency',\n",
       "  'Rohit Sharma is one of the most successful captain in IPL History, leading mumbai Indians to five titles. he is known for his captaincy',\n",
       "  'Ms Dhoni, Famously known as Captain cool, has led chennai super kings to multiple IPL Titles. His finishing skills, Wicket keeping skills are known',\n",
       "  'Jasprit Bumrah is considered one of the fastest bowler in T20 crciekt. Playing for Mumabi Indinas, he is known for his master of precision and pace,unorthodox action and relentless discipline',\n",
       "  'Ravindra Jadeja is a Dynamic all-rounder who contributes with both bat and ball. Representing Chennai Super kings, he is known for  sword-wielding'],\n",
       " 'uris': None,\n",
       " 'included': ['embeddings', 'documents', 'metadatas'],\n",
       " 'data': None,\n",
       " 'metadatas': [{'team': 'Royal Challengers Banglore'},\n",
       "  {'team': 'Mumbai Indians'},\n",
       "  {'team': 'Chennai Super Kings'},\n",
       "  {'team': 'Mumbai Indians'},\n",
       "  {'team': 'Chennai Super Kings'}]}"
      ]
     },
     "execution_count": 25,
     "metadata": {},
     "output_type": "execute_result"
    }
   ],
   "source": [
    "vector_store.get(include=[\"embeddings\", \"documents\", \"metadatas\"])"
   ]
  },
  {
   "cell_type": "code",
   "execution_count": 26,
   "id": "97848aab",
   "metadata": {},
   "outputs": [],
   "source": [
    "# Delete Document\n",
    "vector_store.delete(ids=[\"e0bebd1a-1b93-4338-9a4f-e10943ad0e80\"])"
   ]
  },
  {
   "cell_type": "code",
   "execution_count": 28,
   "id": "b788114d",
   "metadata": {},
   "outputs": [
    {
     "data": {
      "text/plain": [
       "{'ids': ['62c3c9eb-789f-4596-8d96-cc7ff2725c42',\n",
       "  'a28dc09f-f645-46a3-8aef-e6eb48a6fc02',\n",
       "  '0c111c31-2bc5-4338-82ba-54ce78c4c876',\n",
       "  '570253b3-144c-4084-ab41-4fc4cfbe06db'],\n",
       " 'embeddings': array([[ 0.0066123 , -0.03016725, -0.01561238, ..., -0.02056137,\n",
       "          0.01098124, -0.06857778],\n",
       "        [-0.01248463, -0.02590124, -0.01501196, ..., -0.02798415,\n",
       "          0.03158053, -0.05688735],\n",
       "        [ 0.05272389, -0.06671432, -0.01550192, ..., -0.00392435,\n",
       "          0.03517723, -0.06936487],\n",
       "        [-0.04059955, -0.07805686, -0.01309619, ..., -0.00834804,\n",
       "          0.02966242, -0.03385897]], shape=(4, 1024)),\n",
       " 'documents': ['Virat Kohli, The former captain of Royal Challengers Banglore (RCB), is renowed for his aggresive leadership and consistency',\n",
       "  'Rohit Sharma is one of the most successful captain in IPL History, leading mumbai Indians to five titles. he is known for his captaincy',\n",
       "  'Ms Dhoni, Famously known as Captain cool, has led chennai super kings to multiple IPL Titles. His finishing skills, Wicket keeping skills are known',\n",
       "  'Jasprit Bumrah is considered one of the fastest bowler in T20 crciekt. Playing for Mumabi Indinas, he is known for his master of precision and pace,unorthodox action and relentless discipline'],\n",
       " 'uris': None,\n",
       " 'included': ['embeddings', 'documents', 'metadatas'],\n",
       " 'data': None,\n",
       " 'metadatas': [{'team': 'Royal Challengers Banglore'},\n",
       "  {'team': 'Mumbai Indians'},\n",
       "  {'team': 'Chennai Super Kings'},\n",
       "  {'team': 'Mumbai Indians'}]}"
      ]
     },
     "execution_count": 28,
     "metadata": {},
     "output_type": "execute_result"
    }
   ],
   "source": [
    "# View Documents\n",
    "vector_store.get(include=[\"embeddings\",\"documents\", \"metadatas\"])"
   ]
  }
 ],
 "metadata": {
  "kernelspec": {
   "display_name": "mohan",
   "language": "python",
   "name": "python3"
  },
  "language_info": {
   "codemirror_mode": {
    "name": "ipython",
    "version": 3
   },
   "file_extension": ".py",
   "mimetype": "text/x-python",
   "name": "python",
   "nbconvert_exporter": "python",
   "pygments_lexer": "ipython3",
   "version": "3.10.11"
  }
 },
 "nbformat": 4,
 "nbformat_minor": 5
}
