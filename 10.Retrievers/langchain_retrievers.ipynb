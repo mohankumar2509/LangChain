{
 "cells": [
  {
   "cell_type": "markdown",
   "id": "f59e150d",
   "metadata": {},
   "source": [
    "## Wikipedia Retrievers"
   ]
  },
  {
   "cell_type": "code",
   "execution_count": 1,
   "id": "04e09402",
   "metadata": {},
   "outputs": [],
   "source": [
    "from langchain_community.retrievers import WikipediaRetriever"
   ]
  },
  {
   "cell_type": "code",
   "execution_count": 4,
   "id": "29791570",
   "metadata": {},
   "outputs": [],
   "source": [
    "# Initialize the retriever (optional: set language and top_k)\n",
    "retriever = WikipediaRetriever(top_k_results=2, lang=\"en\")"
   ]
  },
  {
   "cell_type": "code",
   "execution_count": 5,
   "id": "d98a2a8e",
   "metadata": {},
   "outputs": [],
   "source": [
    "# Define your query\n",
    "query = \"The geopolitical history of india and pakistan from china perspective\"\n",
    "\n",
    "#Get relevant Wikipedia documents\n",
    "docs = retriever.invoke(query)"
   ]
  },
  {
   "cell_type": "code",
   "execution_count": 6,
   "id": "df021b42",
   "metadata": {},
   "outputs": [
    {
     "name": "stdout",
     "output_type": "stream",
     "text": [
      "\n",
      "-----Result 1 ----\n",
      "Content:\n",
      "Pakistan and the United States established relations on 15 August 1947, a day after the independence of Pakistan, when the United States became one of the first nations to recognise the country.\n",
      "The relationship between the two nations has been described as a \"roller coaster\" characterised by close coordination and lows marked by deep bilateral estrangement. Despite its troubled history, the Pakistani military once occupied an important place in American geopolitical strategy, and has been a major non-NATO ally since 2002. After Pakistan's participation in the Afghan peace process and the Taliban takeover in Afghanistan in 2021, a sizeable number of US policy makers are revisiting the United States' relations with Pakistan. At the same time, the strategic convergence of the United States and India has also brought greater pressure on Pakistani diplomacy.\n",
      "\n",
      "\n",
      "== Background ==\n",
      "\n",
      "During the Cold War (1945–1991), Pakistan allied itself with the Western Bloc led by the United States against the Eastern Bloc led by the Soviet Union, with the former advocating the economic system of capitalism while the latter advocated socialism. Following the 1958 Pakistani military coup, president Muhammad Ayub Khan established a strong military alliance with the United States. During the Bangladesh Liberation War and the Indo-Pakistani War of 1971, the United States aided Pakistan against the Provisional Government of Bangladesh and India. After the Pakistani defeat, Pakistan's leader Zulfikar Ali Bhutto, an anti-American, improved relations with the Soviets. In 1977, Bhutto was overthrown in a military coup led by Muhammad Zia-ul-Haq. Following the Soviet invasion of Afghanistan in 1979, Pakistan and the United States cooperated in the funding and financing of the anti-communist Afghan Mujahideen and then in the ensuing First Afghan Civil War. The United States has imposed sanctions on Pakistan on various occasions to force Pakistan to comply with its strategic interests since 1965, with Pakistan's willingness to participate with the United States in the wars in Somalia and Bosnia, relations improved. However, the United States again suspended aid and imposed sanctions along with India in 1998, only to be lifted once again with the United States engagement in Afghanistan in 2001. Factors involving in the contingency operations, distrust, and different priorities of both nations in the Afghan War led to serious criticism as both sides began to criticize each other's strategy to achieve common goals in the War on Terror. The United States continues to blame Pakistan's military for supporting non-state actors, including the Taliban. Furthermore, drone strikes by both nations, a friendly fire incident at Salala, and an incident involving the arrest of a spy in Lahore further complicated relations for the worse.\n",
      "\n",
      "\n",
      "=== Third-Party factors in Pakistan–U.S. relations ===\n",
      "\n",
      "The U.S.'s troubled relationship with Pakistan continues to be eroded by crisis after crisis. It has been alleged that the ISI of Pakistan pays journalists to write articles hostile to the United States in the early 2010s. Despite this, both Pakistan and the United States continue to seek a productive relationship to defeat terrorist organizations in the War on Terror. But in recent years, \"Islamabad has arguably lost some of its strategic significance in the West following the US/NATO withdrawal from Afghanistan\". Pakistan once provided NATO with a supply route to Afghanistan, a link that dominated bilateral relations during the war. However, with the end of the war and the withdrawal of US troops from the region in the early 2020s, Pakistan's influence on the US disappeared and the US no longer needed it to engage with Afghanistan.\n",
      "Pakistan's decades-long rivalry and conflict with the U.S. strategic partner India in the context of Kashmir and all-weather strategic cooperation with China in the context of great power competition between the United States and China poses difficulties for ....\n",
      "\n",
      "-----Result 2 ----\n",
      "Content:\n",
      "The Islamic Republic of Pakistan emerged as an independent country through the partition of India in August 1947 and was admitted as a United Nations member state in September 1947. It is currently the second-most populous country within the Muslim world, and is also the only Muslim-majority country openly in possession of nuclear weapons. The country shares land borders with India, Iran, Afghanistan, and China.\n",
      "The country has extensive trade relations with the European Union and with several countries globally. As of 2023, Pakistan does not recognize two other United Nations member states (Armenia and Israel) and its ties with India remain frozen since 2019.\n",
      "From a geopolitical perspective, Pakistan's location is strategically important as it is situated at the crossroads of major maritime and land transit routes between the Middle East and South Asia, while also serving as a bridge between the Arabian Sea and the energy-rich regions of Central Asia. Since the partition of India, the Kashmir conflict has defined the India–Pakistan relationship: the two countries claim each other's zones of control in Kashmir, but are separated by a ceasefire boundary known as the Line of Control. Pakistan has close bilateral ties with China and the Muslim world, including Turkey, Saudi Arabia, and the Gulf Arab countries. As a part of the First World during the Cold War, Pakistan closely cooperated with the United States to combat the global influence of the Soviet Union, though this relationship later became strained over the course of the War on Terror. Pakistan is an active member of the Commonwealth of Nations, Organization of Islamic Cooperation, and the Shanghai Cooperation Organization.\n",
      "\n",
      "\n",
      "== Foreign policy of Pakistan ==\n",
      "Pakistan's foreign policy seeks the 'promotion of Pakistan as a dynamic, progressive, moderate, and democratic Islamic country; developing friendly relations with all countries of the world, especially major powers and immediate neighbors; consolidating our commercial and economic cooperation with international community.\"\n",
      "Pakistan's foreign policy is meant to formalize and define its interactions with foreign nations and standardize interactions with organizations, corporations and individual citizens. Backed by the semi-agricultural and semi-industrialized economy, Pakistan is the 44th largest (nominal GDP, 2025) and 26th largest (purchasing) economic power and 7th largest military in the world in terms of active personnel, with a defense budget of US$10.2 billion (2024), 2.7% of its GDP (2024). The Foreign Minister of Pakistan is the official charged with state-to-state diplomacy, although the Prime minister maintains an ultimate authority over foreign policy. The state foreign policy includes defining the national interest, as well as the economic interest and strategies chosen both to safeguard that and to achieve its policy goals. Following the general election held in May 2013, Tariq Fatimi and NSA Sartaj Aziz were designated as advisers to the Prime Minister on foreign and strategic policies. After the dismissal of Nawaz Sharif's government in July 2017, Khawaja Muhammad Asif held the portfolio of foreign minister under the premiership of Shahid Khaqan Abbasi. After the victory of Imran Khan Niazi in the Pakistan General Elections 2018, Shah Mehmood Qureshi was named the Minister of Foreign Affairs. Subsequently, Bilawal Bhutto Zardari became foreign minister after the political crisis-a position previously held by his grandfather, Zulfikar Ali Bhutto, and Hina Rabbani Khar.\n",
      "\n",
      "\n",
      "=== Muhammad Ali Jinnah's Vision ===\n",
      "In 1947, Muhammad Ali Jinnah, founder of the state of Pakistan, clearly described the principles and objectives of Pakistan's foreign policy in a broadcast message, which is featured prominently in a quotation on the homepage of Pakistan's Ministry of Foreign Affairs website: \"The foundation of our foreign policy is friendship with all nations across the globe.\"\n",
      "On 15 August 1947, outlining the foreig....\n"
     ]
    }
   ],
   "source": [
    "for i, doc in enumerate(docs):\n",
    "    print(f\"\\n-----Result {i+1} ----\")\n",
    "    print(f\"Content:\\n{doc.page_content}....\") # Truncate for display"
   ]
  },
  {
   "cell_type": "markdown",
   "id": "e425b608",
   "metadata": {},
   "source": [
    "### Vector Store retriever"
   ]
  },
  {
   "cell_type": "code",
   "execution_count": 1,
   "id": "4b630d9d",
   "metadata": {},
   "outputs": [],
   "source": [
    "from langchain_chroma import Chroma\n",
    "from langchain_huggingface import HuggingFaceEmbeddings\n",
    "from langchain_core.documents import Document"
   ]
  },
  {
   "cell_type": "code",
   "execution_count": 8,
   "id": "60a14fac",
   "metadata": {},
   "outputs": [],
   "source": [
    "# Step 1: Your Source Documents\n",
    "documents = [\n",
    "    Document(page_content=\"LangChain helps developers build LLM Applications easily\"),\n",
    "    Document(page_content=\"Chroma is a vector database optimized for LLM-based search\"),\n",
    "    Document(page_content=\"Embeddings convert text into high-dimensional Vectors\"),\n",
    "    Document(page_content=\"OpenAI Provides powerful embedding models\")\n",
    "]"
   ]
  },
  {
   "cell_type": "code",
   "execution_count": 2,
   "id": "791c5e53",
   "metadata": {},
   "outputs": [
    {
     "name": "stderr",
     "output_type": "stream",
     "text": [
      "m:\\MyCompany\\MachineLearning\\GenAI\\LangChain\\mohan\\lib\\site-packages\\tqdm\\auto.py:21: TqdmWarning: IProgress not found. Please update jupyter and ipywidgets. See https://ipywidgets.readthedocs.io/en/stable/user_install.html\n",
      "  from .autonotebook import tqdm as notebook_tqdm\n"
     ]
    }
   ],
   "source": [
    "# Step 2: Initialize Embedding model\n",
    "import os\n",
    "os.environ['HF_HOME'] = \"W:/huggingface_cache\"\n",
    "embedding_model = HuggingFaceEmbeddings(model_name=\"Qwen/Qwen3-Embedding-0.6B\", model_kwargs={\"trust_remote_code\": True}, encode_kwargs={\"normalize_embeddings\":True})\n"
   ]
  },
  {
   "cell_type": "code",
   "execution_count": 11,
   "id": "44f5d217",
   "metadata": {},
   "outputs": [],
   "source": [
    "# Step 3: Create Chroma Vector Store in Memory\n",
    "vectorstore = Chroma.from_documents(documents= documents, embedding=embedding_model, collection_name=\"mycollection\")\n",
    "\n",
    "# Step 4: Convert vector store into a retriever\n",
    "retriever = vectorstore.as_retriever(search_kwargs = {\"k\":2})\n",
    "\n",
    "#Step5: Invoke retriever\n",
    "query = \"What is chroma used for?\"\n",
    "results = retriever.invoke(query)\n",
    "\n"
   ]
  },
  {
   "cell_type": "code",
   "execution_count": 12,
   "id": "51fa5354",
   "metadata": {},
   "outputs": [
    {
     "name": "stdout",
     "output_type": "stream",
     "text": [
      "\n",
      "----- Result 1 ----\n",
      "Chroma is a vector database optimized for LLM-based search\n",
      "\n",
      "----- Result 2 ----\n",
      "LangChain helps developers build LLM Applications easily\n"
     ]
    }
   ],
   "source": [
    "for i, doc in enumerate(results):\n",
    "    print(f\"\\n----- Result {i+1} ----\")\n",
    "    print(doc.page_content)"
   ]
  },
  {
   "cell_type": "code",
   "execution_count": 13,
   "id": "4b338be9",
   "metadata": {},
   "outputs": [],
   "source": [
    "results = vectorstore.similarity_search(query, k=2)"
   ]
  },
  {
   "cell_type": "code",
   "execution_count": 14,
   "id": "0478b12f",
   "metadata": {},
   "outputs": [
    {
     "name": "stdout",
     "output_type": "stream",
     "text": [
      "\n",
      "----- Result 1 ----\n",
      "Chroma is a vector database optimized for LLM-based search\n",
      "\n",
      "----- Result 2 ----\n",
      "LangChain helps developers build LLM Applications easily\n"
     ]
    }
   ],
   "source": [
    "for i, doc in enumerate(results):\n",
    "    print(f\"\\n----- Result {i+1} ----\")\n",
    "    print(doc.page_content)"
   ]
  },
  {
   "cell_type": "markdown",
   "id": "8a59a3c5",
   "metadata": {},
   "source": [
    "When both retriever and similarity search giving same result, why retrievers?\n",
    "\n",
    "- with retrievers, we can try out different search strategies which is not possible with vector store as it has only one search startegy.\n",
    "- as retriever is a runnable object we can integrate that in chains"
   ]
  },
  {
   "cell_type": "markdown",
   "id": "a370a734",
   "metadata": {},
   "source": [
    "## MMR"
   ]
  },
  {
   "cell_type": "code",
   "execution_count": 16,
   "id": "c70ca175",
   "metadata": {},
   "outputs": [],
   "source": [
    "from langchain.schema import Document\n",
    "docs = [\n",
    "    Document(page_content=\"LangChain makes it easy to work with LLMs.\"),\n",
    "    Document(page_content=\"LangChain is used to build LLM Based applications.\"),\n",
    "    Document(page_content=\"Chroma is used to store and search document embeddings.\"),\n",
    "    Document(page_content=\"Embeddings are vector representations of text.\"),\n",
    "    Document(page_content=\"MMR helps you get diverse results when doing similarity search.\"),\n",
    "    Document(page_content=\"LangChain supports Chroma, FAISS, Pinecone, and more.\")\n",
    "        ]"
   ]
  },
  {
   "cell_type": "code",
   "execution_count": 17,
   "id": "c4329ca2",
   "metadata": {},
   "outputs": [],
   "source": [
    "from langchain.vectorstores import FAISS\n",
    "from langchain_huggingface import HuggingFaceEmbeddings\n",
    "import os\n",
    "os.environ['HF_HOME'] = \"W:/huggingface_cache\"\n",
    "embeddingmodel = HuggingFaceEmbeddings(model_name=\"Qwen/Qwen3-Embedding-0.6B\", model_kwargs={\"trust_remote_code\": True}, encode_kwargs={\"normalize_embeddings\":True})\n",
    "\n",
    "# Create a FAISS vector store from documents\n",
    "vectorstore = FAISS.from_documents(documents=docs, embedding=embeddingmodel)\n",
    "\n",
    "# Enable MMR in the retriever\n",
    "retriever = vectorstore.as_retriever(search_type = \"mmr\",  # <-- this enables MMR)\n",
    "                                     search_kwargs= {\"k\":3, \"lambda_mult\": 1}) # k = top results, Lambda_mult = relevance-diversity balance\n",
    "\n"
   ]
  },
  {
   "cell_type": "code",
   "execution_count": 18,
   "id": "9d6b3211",
   "metadata": {},
   "outputs": [],
   "source": [
    "Query = \"What is LangChain?\"\n",
    "results = retriever.invoke(Query)"
   ]
  },
  {
   "cell_type": "code",
   "execution_count": 19,
   "id": "d3490646",
   "metadata": {},
   "outputs": [
    {
     "name": "stdout",
     "output_type": "stream",
     "text": [
      "\n",
      " ----- Results 1 ----\n",
      "LangChain makes it easy to work with LLMs.\n",
      "\n",
      " ----- Results 2 ----\n",
      "LangChain is used to build LLM Based applications.\n",
      "\n",
      " ----- Results 3 ----\n",
      "LangChain supports Chroma, FAISS, Pinecone, and more.\n"
     ]
    },
    {
     "data": {
      "text/plain": [
       "'\\n ----- Results 1 ----\\nLangChain makes it easy to work with LLMs.\\n\\n ----- Results 2 ----\\nMMR helps you get diverse results when doing similarity search.\\n\\n ----- Results 3 ----\\nEmbeddings are vector representations of text.\\n'"
      ]
     },
     "execution_count": 19,
     "metadata": {},
     "output_type": "execute_result"
    }
   ],
   "source": [
    "for i, doc in enumerate(results):\n",
    "    print(f\"\\n ----- Results {i+1} ----\")\n",
    "    print(doc.page_content)\n",
    "\n",
    "# with Less Lamba_Mult like 0.5 --> we get diverse results, with more Lamba_mult we get less diverse results\n",
    "\n",
    "#When lambda_mult is 0.5, below is the output\n",
    "\n",
    "\"\"\"\n",
    " ----- Results 1 ----\n",
    "LangChain makes it easy to work with LLMs.\n",
    "\n",
    " ----- Results 2 ----\n",
    "MMR helps you get diverse results when doing similarity search.\n",
    "\n",
    " ----- Results 3 ----\n",
    "Embeddings are vector representations of text.\n",
    "\"\"\"\n",
    "\n",
    "# when lambda_mult is 1, below is the output\n"
   ]
  },
  {
   "cell_type": "markdown",
   "id": "a9838339",
   "metadata": {},
   "source": [
    "## Multi-Query Retriever"
   ]
  },
  {
   "cell_type": "code",
   "execution_count": 25,
   "id": "a7c5be8a",
   "metadata": {},
   "outputs": [],
   "source": [
    "from langchain.retrievers.multi_query import MultiQueryRetriever\n",
    "from langchain_community.vectorstores import FAISS\n",
    "from langchain.schema import Document\n",
    "from langchain_huggingface import HuggingFaceEmbeddings"
   ]
  },
  {
   "cell_type": "code",
   "execution_count": null,
   "id": "f34a0c3e",
   "metadata": {},
   "outputs": [],
   "source": [
    "all_docs = [\n",
    "Document(page_content=\"Regular walking boosts heart health and can reduce symptoms of depression.\", metadata={\"source\": \"H1\"}), \n",
    "Document(page_content=\"Consuming leafy greens and fruits helps detox the body and improve longevity.\", metadata={\"source\": \"H2\"}), \n",
    "Document(page_content=\"Deep sleep is crucial for cellular repair and emotional regulation.\", metadata={\"source\": \"H3\"}), \n",
    "Document(page_content=\"Mindfulness and controlled breathing lower cortisol and improve mental clarity.\", metadata={\"source\": \"H4\"}), \n",
    "Document(page_content=\"Drinking sufficient water throughout the day helps maintain metabolism and energy.\", metadata={\"source\": \"H5\"}),\n",
    "Document(page_content=\"The solar energy system in modern homes helps balance electricity demand.\", metadata={\"source\": \"I1\"}), \n",
    "Document(page_content=\"Python balances readbility with power, making it a popular system design language.\", metadata={\"source\": \"I2\"}),\n",
    "Document(page_content=\"Photosynthesis enables plants to produce energy by converting sunlight.\", metadata={\"source\": \"I3\"}), \n",
    "Document(page_content=\"The 2022 FIFA World Cup was held in Qatar and drew global energy and excitement.\", metadata={\"source\": \"I4\"}), \n",
    "Document(page_content=\"Black holes bend spacetime and store immense gravitational energy.\", metadata={\"source\":\"I5\"})\n",
    "]"
   ]
  },
  {
   "cell_type": "code",
   "execution_count": 27,
   "id": "7a18c7ae",
   "metadata": {},
   "outputs": [],
   "source": [
    "os.environ['HF_HOME'] = \"W:/huggingface_cache\"\n",
    "embeddingmodel = HuggingFaceEmbeddings(model_name=\"Qwen/Qwen3-Embedding-0.6B\", model_kwargs={\"trust_remote_code\": True}, encode_kwargs={\"normalize_embeddings\":True})\n",
    "\n",
    "vectorstore = FAISS.from_documents(documents=all_docs, embedding = embeddingmodel)\n"
   ]
  },
  {
   "cell_type": "code",
   "execution_count": 28,
   "id": "c5d6a9d3",
   "metadata": {},
   "outputs": [],
   "source": [
    "#Create retriever\n",
    "similarity_retriever = vectorstore.as_retriever(search_type = \"similarity\", search_kwargs = {\"k\" : 5})"
   ]
  },
  {
   "cell_type": "code",
   "execution_count": 29,
   "id": "b90924ec",
   "metadata": {},
   "outputs": [
    {
     "name": "stderr",
     "output_type": "stream",
     "text": [
      "Device set to use cpu\n"
     ]
    }
   ],
   "source": [
    "from langchain_huggingface import HuggingFacePipeline, ChatHuggingFace\n",
    "\n",
    "llm = HuggingFacePipeline.from_model_id(model_id=\"TinyLlama/TinyLlama-1.1B-Chat-v1.0\", task=\"text-generation\")\n",
    "model = ChatHuggingFace(llm =llm)"
   ]
  },
  {
   "cell_type": "code",
   "execution_count": 30,
   "id": "fa3add05",
   "metadata": {},
   "outputs": [],
   "source": [
    "multiquery_retriever = MultiQueryRetriever.from_llm(llm = model, retriever= vectorstore.as_retriever(search_kwargs={\"k\":5}))"
   ]
  },
  {
   "cell_type": "code",
   "execution_count": 31,
   "id": "a87923cd",
   "metadata": {},
   "outputs": [],
   "source": [
    "#Query \n",
    "query = \"How to improve energy levels and maintain balance\""
   ]
  },
  {
   "cell_type": "code",
   "execution_count": 32,
   "id": "a826b299",
   "metadata": {},
   "outputs": [],
   "source": [
    "# Retriver results\n",
    "similarity_results = similarity_retriever.invoke(query)\n",
    "multiquery_results = multiquery_retriever.invoke(query)"
   ]
  },
  {
   "cell_type": "code",
   "execution_count": 34,
   "id": "123ca81c",
   "metadata": {},
   "outputs": [
    {
     "name": "stdout",
     "output_type": "stream",
     "text": [
      "7\n"
     ]
    }
   ],
   "source": [
    "print(len(multiquery_results))"
   ]
  },
  {
   "cell_type": "code",
   "execution_count": 33,
   "id": "0296e65a",
   "metadata": {},
   "outputs": [
    {
     "name": "stdout",
     "output_type": "stream",
     "text": [
      "\n",
      " ------ Results 1 ---\n",
      "Mindfulness and controlled breathing lower cortisol and improve mental clarity.\n",
      "\n",
      " ------ Results 2 ---\n",
      "Consuming leafy greens and fruits helps detox the body and improve longevity.\n",
      "\n",
      " ------ Results 3 ---\n",
      "Drinking sufficient water throughout the day helps maintain metabolism and energy.\n",
      "\n",
      " ------ Results 4 ---\n",
      "Regular walking boosts heart health and can reduce symptoms of depression.\n",
      "\n",
      " ------ Results 5 ---\n",
      "Python balances reaility with power, making it a popular system design language.\n",
      "********************************************************************************\n",
      "\n",
      " ------ Results 1 ---\n",
      "Python balances reaility with power, making it a popular system design language.\n",
      "\n",
      " ------ Results 2 ---\n",
      "Mindfulness and controlled breathing lower cortisol and improve mental clarity.\n",
      "\n",
      " ------ Results 3 ---\n",
      "Drinking sufficient water throughout the day helps maintain metabolism and energy.\n",
      "\n",
      " ------ Results 4 ---\n",
      "Regular walking boosts heart health and can reduce symptoms of depression.\n",
      "\n",
      " ------ Results 5 ---\n",
      "Consuming leafy greens and fruits helps detox the body and improve longevity.\n",
      "\n",
      " ------ Results 6 ---\n",
      "The 2022 FIFA World Cup was held in Qatar and drew global energy and excitement.\n",
      "\n",
      " ------ Results 7 ---\n",
      "The solar energy system in modern homes helps balance electricity demand.\n"
     ]
    }
   ],
   "source": [
    "for i, doc in enumerate(similarity_results):\n",
    "    print(f\"\\n ------ Results {i+1} ---\")\n",
    "    print(doc.page_content)\n",
    "\n",
    "print(\"*\" * 80)\n",
    "\n",
    "for i, doc in enumerate(multiquery_results):\n",
    "    print(f\"\\n ------ Results {i+1} ---\")\n",
    "    print(doc.page_content)"
   ]
  },
  {
   "cell_type": "markdown",
   "id": "e55f3a7e",
   "metadata": {},
   "source": [
    "## ContextualCompressionRetriever"
   ]
  },
  {
   "cell_type": "code",
   "execution_count": 35,
   "id": "cda7e267",
   "metadata": {},
   "outputs": [],
   "source": [
    "docs = [\n",
    "    Document(page_content=(\n",
    "        \"\"\"The Grand Canyon is one of the most visited natural wonders in the world.\n",
    "        Photosynthesis is the process by which green plants convert sunlight into energy.\n",
    "        Millions of tourists travel to see it every year. The rocks date back millions of years.\"\"\"\n",
    "    ), metadata={\"source\": \"Doc1\"}),\n",
    "\n",
    "    Document(page_content=(\n",
    "        \"\"\"In medieval Europe, castles were built primarily for defense.\n",
    "        The chlorophyll in plant cells captures sunlight during photosynthesis.\n",
    "        Knights wore armor made of metal. Siege weapons were often used to breach castle walls.\"\"\"\n",
    "    ), metadata={\"source\": \"Doc2\"}),\n",
    "\n",
    "    Document(page_content=(\n",
    "        \"\"\"Basketball was invented by Dr. James Naismith in the late 19th century.\n",
    "        It was originally played with a soccer ball and peach baskets. NBA is now a global league.\"\"\"\n",
    "    ), metadata={\"source\": \"Doc3\"}),\n",
    "\n",
    "    Document(page_content=(\n",
    "        \"\"\"The history of cinema began in the late 1800s. Silent films were the earliest form.\n",
    "        Thomas Edison was among the pioneers. Photosynthesis does not occur in animal cells.\n",
    "        Modern filmmaking involves complex CGI and sound design.\"\"\"\n",
    "    ), metadata={\"source\": \"Doc4\"})\n",
    "]"
   ]
  },
  {
   "cell_type": "code",
   "execution_count": 36,
   "id": "ae1e33a6",
   "metadata": {},
   "outputs": [],
   "source": [
    "from langchain.retrievers.contextual_compression import ContextualCompressionRetriever\n",
    "from langchain.retrievers.document_compressors import LLMChainExtractor"
   ]
  },
  {
   "cell_type": "code",
   "execution_count": 37,
   "id": "c99c627e",
   "metadata": {},
   "outputs": [],
   "source": [
    "vectorstore = FAISS.from_documents(documents= docs, embedding= embeddingmodel)\n",
    "baseretriever = vectorstore.as_retriever(search_kwargs = {\"k\":5})"
   ]
  },
  {
   "cell_type": "code",
   "execution_count": 38,
   "id": "4ecfe712",
   "metadata": {},
   "outputs": [],
   "source": [
    "# Setup the compressor using an LLM\n",
    "compressor = LLMChainExtractor.from_llm(model)"
   ]
  },
  {
   "cell_type": "code",
   "execution_count": 39,
   "id": "f433fb8d",
   "metadata": {},
   "outputs": [],
   "source": [
    "# Create a contextual Compression retriever\n",
    "compression_retriever = ContextualCompressionRetriever(base_retriever=baseretriever, base_compressor=compressor)"
   ]
  },
  {
   "cell_type": "code",
   "execution_count": 40,
   "id": "80ce094d",
   "metadata": {},
   "outputs": [],
   "source": [
    "#query the retriever\n",
    "query = \"What is Photosynthesis\"\n",
    "compressed_results = compression_retriever.invoke(query)"
   ]
  },
  {
   "cell_type": "code",
   "execution_count": 41,
   "id": "0427b815",
   "metadata": {},
   "outputs": [
    {
     "name": "stdout",
     "output_type": "stream",
     "text": [
      "\n",
      "----- Results 1----\n",
      "<|user|>\n",
      "Given the following question and context, extract any part of the context *AS IS* that is relevant to answer the question. If none of the context is relevant return NO_OUTPUT.\n",
      "\n",
      "Remember, *DO NOT* edit the extracted parts of the context.\n",
      "\n",
      "> Question: What is Photosynthesis\n",
      "> Context:\n",
      ">>>\n",
      "The Grand Canyon is one of the most visited natural wonders in the world.\n",
      "        Photosynthesis is the process by which green plants convert sunlight into energy.\n",
      "        Millions of tourists travel to see it every year. The rocks date back millions of years.\n",
      ">>>\n",
      "Extracted relevant parts:</s>\n",
      "<|assistant|>\n",
      "Remember, *DO NOT* edit the extracted parts of the context.\n",
      "\n",
      "----- Results 2----\n",
      "<|user|>\n",
      "Given the following question and context, extract any part of the context *AS IS* that is relevant to answer the question. If none of the context is relevant return NO_OUTPUT.\n",
      "\n",
      "Remember, *DO NOT* edit the extracted parts of the context.\n",
      "\n",
      "> Question: What is Photosynthesis\n",
      "> Context:\n",
      ">>>\n",
      "The history of cinema began in the late 1800s. Silent films were the earliest form.\n",
      "        Thomas Edison was among the pioneers. Photosynthesis does not occur in animal cells.\n",
      "        Modern filmmaking involves complex CGI and sound design.\n",
      ">>>\n",
      "Extracted relevant parts:</s>\n",
      "<|assistant|>\n",
      "No output is provided since the extracted parts of the context do not relate to the question or context given.\n",
      "\n",
      "----- Results 3----\n",
      "<|user|>\n",
      "Given the following question and context, extract any part of the context *AS IS* that is relevant to answer the question. If none of the context is relevant return NO_OUTPUT.\n",
      "\n",
      "Remember, *DO NOT* edit the extracted parts of the context.\n",
      "\n",
      "> Question: What is Photosynthesis\n",
      "> Context:\n",
      ">>>\n",
      "In medieval Europe, castles were built primarily for defense.\n",
      "        The chlorophyll in plant cells captures sunlight during photosynthesis.\n",
      "        Knights wore armor made of metal. Siege weapons were often used to breach castle walls.\n",
      ">>>\n",
      "Extracted relevant parts:</s>\n",
      "<|assistant|>\n",
      "Yes, some relevant parts of the context for the question are:\n",
      "\n",
      "1. In medieval Europe, castles were built primarily for defense.\n",
      "2. Knights wore armor made of metal.\n",
      "3. Siege weapons were often used to breach castle walls.\n",
      "\n",
      "These findings demonstrate that in medieval Europe, castles were built primarily for defense and that knights wore armor made of metal. Additionally, the context emphasizes that siege weapons were commonly used to breach castle walls.\n",
      "\n",
      "----- Results 4----\n",
      "<|user|>\n",
      "Given the following question and context, extract any part of the context *AS IS* that is relevant to answer the question. If none of the context is relevant return NO_OUTPUT.\n",
      "\n",
      "Remember, *DO NOT* edit the extracted parts of the context.\n",
      "\n",
      "> Question: What is Photosynthesis\n",
      "> Context:\n",
      ">>>\n",
      "Basketball was invented by Dr. James Naismith in the late 19th century.\n",
      "        It was originally played with a soccer ball and peach baskets. NBA is now a global league.\n",
      ">>>\n",
      "Extracted relevant parts:</s>\n",
      "<|assistant|>\n",
      "> Question: What is Photosynthesis\n",
      "> Context:\n",
      ">>>\n",
      "Basketball was invented by Dr. James Naismith in the late 19th century. It was originally played with a soccer ball and peach baskets. The NBA is now a global league.\n"
     ]
    }
   ],
   "source": [
    "for i, doc in enumerate(compressed_results):\n",
    "    print(f\"\\n----- Results {i+1}----\")\n",
    "    print(doc.page_content)"
   ]
  },
  {
   "cell_type": "code",
   "execution_count": null,
   "id": "5bbde76f",
   "metadata": {},
   "outputs": [],
   "source": []
  }
 ],
 "metadata": {
  "kernelspec": {
   "display_name": "mohan",
   "language": "python",
   "name": "python3"
  },
  "language_info": {
   "codemirror_mode": {
    "name": "ipython",
    "version": 3
   },
   "file_extension": ".py",
   "mimetype": "text/x-python",
   "name": "python",
   "nbconvert_exporter": "python",
   "pygments_lexer": "ipython3",
   "version": "3.10.11"
  }
 },
 "nbformat": 4,
 "nbformat_minor": 5
}
