{
 "cells": [
  {
   "cell_type": "code",
   "execution_count": 1,
   "id": "f1751160",
   "metadata": {},
   "outputs": [],
   "source": [
    "import random\n",
    "\n",
    "class DummyLLM:\n",
    "\n",
    "    def __init__(self):\n",
    "        print(\"LLM Created\")\n",
    "\n",
    "    def predict(self, prompt):\n",
    "        response_list = [\"AI stands for Artifical Intelligence\",\n",
    "        \"ML stands for machine learning\",\n",
    "        \"DL stands for Deep Learning\"]\n",
    "\n",
    "        return {\"response\":random.choice(response_list)}"
   ]
  },
  {
   "cell_type": "code",
   "execution_count": 5,
   "id": "32f3e6e9",
   "metadata": {},
   "outputs": [],
   "source": [
    "class DummyPromptTemplate:\n",
    "\n",
    "    def __init__(self, template, inputvariables):\n",
    "        self.template = template\n",
    "        self.inputvariables = inputvariables\n",
    "    \n",
    "    def format(self, inputvariables):\n",
    "        return self.template.format(**inputvariables)"
   ]
  },
  {
   "cell_type": "code",
   "execution_count": 6,
   "id": "e6d428ed",
   "metadata": {},
   "outputs": [
    {
     "name": "stdout",
     "output_type": "stream",
     "text": [
      "Write a poem on AI\n"
     ]
    }
   ],
   "source": [
    "template = DummyPromptTemplate(template = \"Write a poem on {topic}\", inputvariables=[\"topic\"])\n",
    "print(template.format({\"topic\": \"AI\"}))"
   ]
  },
  {
   "cell_type": "code",
   "execution_count": 11,
   "id": "ee09e59f",
   "metadata": {},
   "outputs": [],
   "source": [
    "class DummySequentialChains:\n",
    "\n",
    "    def __init__(self, llm, prompt):\n",
    "        self.llm = llm\n",
    "        self.prompt = prompt\n",
    "    \n",
    "    def run(self, input_dict):\n",
    "        final_prompt = self.prompt.format(input_dict)\n",
    "        result = self.llm.predict(final_prompt)\n",
    "        return result['response']\n"
   ]
  },
  {
   "cell_type": "code",
   "execution_count": 14,
   "id": "9f7d5912",
   "metadata": {},
   "outputs": [
    {
     "name": "stdout",
     "output_type": "stream",
     "text": [
      "LLM Created\n",
      "AI stands for Artifical Intelligence\n"
     ]
    }
   ],
   "source": [
    "llm = DummyLLM()\n",
    "template = DummyPromptTemplate(template = \"Write a poem on {topic}\", inputvariables=[\"topic\"])\n",
    "chain = DummySequentialChains(llm, template)\n",
    "print(chain.run({\"topic\": \"AI\"}))"
   ]
  }
 ],
 "metadata": {
  "kernelspec": {
   "display_name": "mohan",
   "language": "python",
   "name": "python3"
  },
  "language_info": {
   "codemirror_mode": {
    "name": "ipython",
    "version": 3
   },
   "file_extension": ".py",
   "mimetype": "text/x-python",
   "name": "python",
   "nbconvert_exporter": "python",
   "pygments_lexer": "ipython3",
   "version": "3.10.11"
  }
 },
 "nbformat": 4,
 "nbformat_minor": 5
}
