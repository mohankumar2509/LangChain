{
 "cells": [
  {
   "cell_type": "code",
   "execution_count": 2,
   "id": "ff23dfbf",
   "metadata": {},
   "outputs": [],
   "source": [
    "from abc import ABC, abstractmethod\n",
    "\n",
    "class Runnables(ABC):\n",
    "\n",
    "    @abstractmethod\n",
    "    def invoke(input_data):\n",
    "        pass"
   ]
  },
  {
   "cell_type": "code",
   "execution_count": 5,
   "id": "25e357c6",
   "metadata": {},
   "outputs": [],
   "source": [
    "import random\n",
    "\n",
    "class DummyLLM(Runnables):\n",
    "\n",
    "    def __init__(self):\n",
    "        print(\"LLM Created\")\n",
    "    \n",
    "    def invoke(self,prompt):\n",
    "        return self.predict(prompt);\n",
    "\n",
    "    def predict(self, prompt):\n",
    "        response_list = [\"AI stands for Artifical Intelligence\",\n",
    "        \"ML stands for machine learning\",\n",
    "        \"DL stands for Deep Learning\"]\n",
    "\n",
    "        return {\"response\":random.choice(response_list)}"
   ]
  },
  {
   "cell_type": "code",
   "execution_count": 7,
   "id": "5929ff1d",
   "metadata": {},
   "outputs": [],
   "source": [
    "class DummyPromptTemplate(Runnables):\n",
    "\n",
    "    def __init__(self, template, inputvariables):\n",
    "        self.template = template\n",
    "        self.inputvariables = inputvariables\n",
    "    \n",
    "    def invoke(self, inputvariables):\n",
    "        return self.template.format(**inputvariables)\n",
    "    \n",
    "    def format(self, inputvariables):\n",
    "        return self.template.format(**inputvariables)"
   ]
  },
  {
   "cell_type": "code",
   "execution_count": 11,
   "id": "6eedd1fd",
   "metadata": {},
   "outputs": [],
   "source": [
    "class DummyStrOutputParser(Runnables):\n",
    "\n",
    "    def invoke(self,input_data):\n",
    "        return input_data[\"response\"]"
   ]
  },
  {
   "cell_type": "code",
   "execution_count": 8,
   "id": "b602fab4",
   "metadata": {},
   "outputs": [],
   "source": [
    "class RunnableConnector(Runnables):\n",
    "\n",
    "    def __init__(self, runnable_list):\n",
    "        self.runnable_list = runnable_list\n",
    "    \n",
    "    def invoke(self, input_data):\n",
    "        for task in self.runnable_list:\n",
    "            input_data = task.invoke(input_data)\n",
    "\n",
    "        return input_data\n"
   ]
  },
  {
   "cell_type": "code",
   "execution_count": 12,
   "id": "4899d744",
   "metadata": {},
   "outputs": [
    {
     "name": "stdout",
     "output_type": "stream",
     "text": [
      "LLM Created\n"
     ]
    },
    {
     "data": {
      "text/plain": [
       "'AI stands for Artifical Intelligence'"
      ]
     },
     "execution_count": 12,
     "metadata": {},
     "output_type": "execute_result"
    }
   ],
   "source": [
    "prompt = DummyPromptTemplate(template=\"Write a poem on topic {topic}\", inputvariables=[\"topic\"])\n",
    "llm = DummyLLM()\n",
    "parser = DummyStrOutputParser()\n",
    "chain = RunnableConnector([prompt, llm, parser])\n",
    "chain.invoke({\"topic\": \"AI\"})"
   ]
  },
  {
   "cell_type": "code",
   "execution_count": 13,
   "id": "bb843906",
   "metadata": {},
   "outputs": [
    {
     "name": "stdout",
     "output_type": "stream",
     "text": [
      "AI stands for Artifical Intelligence\n"
     ]
    }
   ],
   "source": [
    "DummyTemplate1 = DummyPromptTemplate(template=\"Write a poem about topic {topic}\", inputvariables=[\"topic\"])\n",
    "DummyTemplate2 = DummyPromptTemplate(template=\"Summarize the topic {response}\", inputvariables=[\"response\"])\n",
    "\n",
    "result = RunnableConnector([DummyTemplate1, llm, DummyTemplate2, llm, parser]).invoke({\"topic\": \"AI\"})\n",
    "print(result)"
   ]
  },
  {
   "cell_type": "code",
   "execution_count": 17,
   "id": "d9d8ab01",
   "metadata": {},
   "outputs": [
    {
     "name": "stdout",
     "output_type": "stream",
     "text": [
      "DL stands for Deep Learning\n"
     ]
    }
   ],
   "source": [
    "DummyTemplate1 = DummyPromptTemplate(template=\"Write a poem about topic {topic}\", inputvariables=[\"topic\"])\n",
    "DummyTemplate2 = DummyPromptTemplate(template=\"Summarize the topic {response}\", inputvariables=[\"response\"])\n",
    "chain1 = RunnableConnector([DummyTemplate1, llm])\n",
    "chain2 = RunnableConnector([DummyTemplate2, llm, parser])\n",
    "final_chain = RunnableConnector([chain1, chain2])\n",
    "result = final_chain.invoke({\"topic\": \"AI\"})\n",
    "print(result)"
   ]
  }
 ],
 "metadata": {
  "kernelspec": {
   "display_name": "mohan",
   "language": "python",
   "name": "python3"
  },
  "language_info": {
   "codemirror_mode": {
    "name": "ipython",
    "version": 3
   },
   "file_extension": ".py",
   "mimetype": "text/x-python",
   "name": "python",
   "nbconvert_exporter": "python",
   "pygments_lexer": "ipython3",
   "version": "3.10.11"
  }
 },
 "nbformat": 4,
 "nbformat_minor": 5
}
